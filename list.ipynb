{
 "cells": [
  {
   "cell_type": "code",
   "execution_count": null,
   "id": "ed95226e",
   "metadata": {},
   "outputs": [],
   "source": [
    "if __name__ == '__main__':\n",
    "    N = int(input())\n",
    "    lis=list()\n",
    "    for _ in range(N):\n",
    "        s=input().strip().split(\" \")\n",
    "        if s[0]==\"insert\":\n",
    "            lis.insert(int(s[1]),int(s[2]))\n",
    "        if s[0]==\"print\":\n",
    "            print(lis)\n",
    "        if s[0]==\"remove\":\n",
    "            lis.remove(int(s[1]))\n",
    "        if s[0]==\"append\":\n",
    "            lis.append(int(s[1]))\n",
    "        if s[0]==\"sort\":\n",
    "            lis.sort()\n",
    "        if s[0]==\"pop\":\n",
    "            lis.pop()\n",
    "        if s[0]==\"reverse\":\n",
    "            lis.reverse()\n",
    "\n"
   ]
  }
 ],
 "metadata": {
  "kernelspec": {
   "display_name": "Python 3 (ipykernel)",
   "language": "python",
   "name": "python3"
  },
  "language_info": {
   "codemirror_mode": {
    "name": "ipython",
    "version": 3
   },
   "file_extension": ".py",
   "mimetype": "text/x-python",
   "name": "python",
   "nbconvert_exporter": "python",
   "pygments_lexer": "ipython3",
   "version": "3.9.7"
  }
 },
 "nbformat": 4,
 "nbformat_minor": 5
}
