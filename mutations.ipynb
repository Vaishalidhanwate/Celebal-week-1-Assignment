{
 "cells": [
  {
   "cell_type": "code",
   "execution_count": null,
   "id": "d9a74f7f",
   "metadata": {},
   "outputs": [],
   "source": [
    "\n",
    "def mutate_string(string, position, character):\n",
    "    return string[:position] + character + string[position+1:len(string)]\n",
    "\n",
    "if __name__ == '__main__':"
   ]
  }
 ],
 "metadata": {
  "kernelspec": {
   "display_name": "Python 3 (ipykernel)",
   "language": "python",
   "name": "python3"
  },
  "language_info": {
   "codemirror_mode": {
    "name": "ipython",
    "version": 3
   },
   "file_extension": ".py",
   "mimetype": "text/x-python",
   "name": "python",
   "nbconvert_exporter": "python",
   "pygments_lexer": "ipython3",
   "version": "3.9.7"
  }
 },
 "nbformat": 4,
 "nbformat_minor": 5
}
